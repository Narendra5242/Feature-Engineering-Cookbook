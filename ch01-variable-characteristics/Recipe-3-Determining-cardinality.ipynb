{
 "cells": [
  {
   "cell_type": "markdown",
   "metadata": {},
   "source": [
    "Cardinality refers to the number of unique categories in each variable. Thus, the cardinality of the variable gender, which takes the values 'male' and 'female' is 2, whereas the cardinality of the variable civil status, which takes values 'married', 'divorced', 'single' and 'widow' is 4.\n",
    "\n",
    "In this recipe, we will quantify and visualize the cardinality of categorical variables, utilizing the dataset from the [KDD-CUP-98](https://archive.ics.uci.edu/ml/datasets/KDD+Cup+1998+Data) available in the UCI Machine Learning Repository.\n",
    "\n",
    "Dua, D. and Graff, C. (2019). UCI Machine Learning Repository [http://archive.ics.uci.edu/ml]. Irvine, CA: University of California, School of Information and Computer Science.\n",
    "\n",
    "====================================================================================================\n",
    "\n",
    "To download the data, visit this [website](https://archive.ics.uci.edu/ml/machine-learning-databases/kddcup98-mld/epsilon_mirror/)\n",
    "\n",
    "Click the 'cup98lrn.zip' to begin the download. Unzip the file and save 'cup98LRN.txt' to the parent directory of this repo (../cup98LRN.txt).\n",
    "\n",
    "===================================================================================================="
   ]
  },
  {
   "cell_type": "code",
   "execution_count": 1,
   "metadata": {},
   "outputs": [],
   "source": [
    "import pandas as pd\n",
    "import numpy as np\n",
    "import matplotlib.pyplot as plt"
   ]
  },
  {
   "cell_type": "code",
   "execution_count": 2,
   "metadata": {},
   "outputs": [
    {
     "data": {
      "text/html": [
       "<div>\n",
       "<style scoped>\n",
       "    .dataframe tbody tr th:only-of-type {\n",
       "        vertical-align: middle;\n",
       "    }\n",
       "\n",
       "    .dataframe tbody tr th {\n",
       "        vertical-align: top;\n",
       "    }\n",
       "\n",
       "    .dataframe thead th {\n",
       "        text-align: right;\n",
       "    }\n",
       "</style>\n",
       "<table border=\"1\" class=\"dataframe\">\n",
       "  <thead>\n",
       "    <tr style=\"text-align: right;\">\n",
       "      <th></th>\n",
       "      <th>DOMAIN</th>\n",
       "      <th>GENDER</th>\n",
       "      <th>RFA_2</th>\n",
       "      <th>RFA_15</th>\n",
       "      <th>MDMAUD_A</th>\n",
       "    </tr>\n",
       "  </thead>\n",
       "  <tbody>\n",
       "    <tr>\n",
       "      <td>0</td>\n",
       "      <td>T2</td>\n",
       "      <td>F</td>\n",
       "      <td>L4E</td>\n",
       "      <td>S4E</td>\n",
       "      <td>X</td>\n",
       "    </tr>\n",
       "    <tr>\n",
       "      <td>1</td>\n",
       "      <td>S1</td>\n",
       "      <td>M</td>\n",
       "      <td>L2G</td>\n",
       "      <td>NaN</td>\n",
       "      <td>X</td>\n",
       "    </tr>\n",
       "    <tr>\n",
       "      <td>2</td>\n",
       "      <td>R2</td>\n",
       "      <td>M</td>\n",
       "      <td>L4E</td>\n",
       "      <td>S4F</td>\n",
       "      <td>X</td>\n",
       "    </tr>\n",
       "    <tr>\n",
       "      <td>3</td>\n",
       "      <td>R2</td>\n",
       "      <td>F</td>\n",
       "      <td>L4E</td>\n",
       "      <td>S4E</td>\n",
       "      <td>X</td>\n",
       "    </tr>\n",
       "    <tr>\n",
       "      <td>4</td>\n",
       "      <td>S2</td>\n",
       "      <td>F</td>\n",
       "      <td>L2F</td>\n",
       "      <td>NaN</td>\n",
       "      <td>X</td>\n",
       "    </tr>\n",
       "  </tbody>\n",
       "</table>\n",
       "</div>"
      ],
      "text/plain": [
       "  DOMAIN GENDER RFA_2 RFA_15 MDMAUD_A\n",
       "0     T2      F   L4E    S4E        X\n",
       "1     S1      M   L2G    NaN        X\n",
       "2     R2      M   L4E    S4F        X\n",
       "3     R2      F   L4E    S4E        X\n",
       "4     S2      F   L2F    NaN        X"
      ]
     },
     "execution_count": 2,
     "metadata": {},
     "output_type": "execute_result"
    }
   ],
   "source": [
    "# we will use the selected variables for the recipe\n",
    "cols = ['GENDER', 'RFA_2', 'MDMAUD_A', 'RFA_2', 'DOMAIN', 'RFA_15']\n",
    "\n",
    "# load the dataset\n",
    "data = pd.read_csv('cup98LRN.txt', usecols=cols)\n",
    "\n",
    "# the dataset contains empty strings\n",
    "# which are in essence missing values\n",
    "# I replace those here\n",
    "data = data.replace(' ', np.nan)\n",
    "\n",
    "# let's inspect the first 5 rows\n",
    "data.head()"
   ]
  },
  {
   "cell_type": "code",
   "execution_count": 3,
   "metadata": {},
   "outputs": [
    {
     "data": {
      "text/plain": [
       "DOMAIN      16\n",
       "GENDER       6\n",
       "RFA_2       14\n",
       "RFA_15      33\n",
       "MDMAUD_A     5\n",
       "dtype: int64"
      ]
     },
     "execution_count": 3,
     "metadata": {},
     "output_type": "execute_result"
    }
   ],
   "source": [
    "# with the following command we can learn the cardinality\n",
    "# of each of the loaded variables\n",
    "\n",
    "data.nunique()"
   ]
  },
  {
   "cell_type": "code",
   "execution_count": 4,
   "metadata": {},
   "outputs": [
    {
     "data": {
      "text/plain": [
       "DOMAIN      17\n",
       "GENDER       7\n",
       "RFA_2       14\n",
       "RFA_15      34\n",
       "MDMAUD_A     5\n",
       "dtype: int64"
      ]
     },
     "execution_count": 4,
     "metadata": {},
     "output_type": "execute_result"
    }
   ],
   "source": [
    "# nunique() ignores missing data by default. If we want\n",
    "# to consider missing values as an additional category\n",
    "# we need to explicitly mention so, passing the argument\n",
    "# dropna=False\n",
    "\n",
    "data.nunique(dropna=False)"
   ]
  },
  {
   "cell_type": "code",
   "execution_count": 5,
   "metadata": {},
   "outputs": [
    {
     "data": {
      "text/plain": [
       "array(['F', 'M', nan, 'C', 'U', 'J', 'A'], dtype=object)"
      ]
     },
     "execution_count": 5,
     "metadata": {},
     "output_type": "execute_result"
    }
   ],
   "source": [
    "# let's print the different unique labels\n",
    "data['GENDER'].unique()"
   ]
  },
  {
   "cell_type": "code",
   "execution_count": 6,
   "metadata": {},
   "outputs": [
    {
     "data": {
      "text/plain": [
       "Text(0.5, 1.0, 'Cardinality')"
      ]
     },
     "execution_count": 6,
     "metadata": {},
     "output_type": "execute_result"
    },
    {
     "data": {
      "image/png": "[encoded data removed]",
      "text/plain": [
       "<Figure size 864x432 with 1 Axes>"
      ]
     },
     "metadata": {
      "needs_background": "light"
     },
     "output_type": "display_data"
    }
   ],
   "source": [
    "# let's plot the cardinality of the variables \n",
    "\n",
    "data.nunique().plot.bar(figsize=(12,6))\n",
    "\n",
    "# add labels and title\n",
    "plt.ylabel('Number of unique categories')\n",
    "plt.xlabel('Variables')\n",
    "plt.title('Cardinality')"
   ]
  },
  {
   "cell_type": "code",
   "execution_count": 7,
   "metadata": {},
   "outputs": [
    {
     "data": {
      "text/plain": [
       "RFA_2       14\n",
       "MDMAUD_A     5\n",
       "RFA_2       14\n",
       "dtype: int64"
      ]
     },
     "execution_count": 7,
     "metadata": {},
     "output_type": "execute_result"
    }
   ],
   "source": [
    "# if we want to evaluate the cardinality of only a subset \n",
    "# of columns from a data set, we can do so by passing the\n",
    "# columns of interest as follows:\n",
    "\n",
    "# evaluate cardinality of variables of choice\n",
    "data[['RFA_2', 'MDMAUD_A', 'RFA_2']].nunique()"
   ]
  },
  {
   "cell_type": "code",
   "execution_count": null,
   "metadata": {},
   "outputs": [],
   "source": []
  }
 ],
 "metadata": {
  "kernelspec": {
   "display_name": "feml",
   "language": "python",
   "name": "feml"
  },
  "language_info": {
   "codemirror_mode": {
    "name": "ipython",
    "version": 3
   },
   "file_extension": ".py",
   "mimetype": "text/x-python",
   "name": "python",
   "nbconvert_exporter": "python",
   "pygments_lexer": "ipython3",
   "version": "3.7.3"
  },
  "toc": {
   "nav_menu": {},
   "number_sections": true,
   "sideBar": true,
   "skip_h1_title": false,
   "toc_cell": false,
   "toc_position": {},
   "toc_section_display": true,
   "toc_window_display": false
  }
 },
 "nbformat": 4,
 "nbformat_minor": 2
}
