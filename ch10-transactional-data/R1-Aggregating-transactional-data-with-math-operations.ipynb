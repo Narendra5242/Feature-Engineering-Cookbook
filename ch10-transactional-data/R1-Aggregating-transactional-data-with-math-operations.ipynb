{
 "cells": [
  {
   "cell_type": "code",
   "execution_count": 1,
   "metadata": {},
   "outputs": [],
   "source": [
    "import pandas as pd\n",
    "import featuretools as ft"
   ]
  },
  {
   "cell_type": "code",
   "execution_count": 2,
   "metadata": {},
   "outputs": [],
   "source": [
    "# load data from feature tools\n",
    "\n",
    "data_dict = ft.demo.load_mock_customer()"
   ]
  },
  {
   "cell_type": "code",
   "execution_count": 3,
   "metadata": {},
   "outputs": [
    {
     "data": {
      "text/plain": [
       "pandas.core.frame.DataFrame"
      ]
     },
     "execution_count": 3,
     "metadata": {},
     "output_type": "execute_result"
    }
   ],
   "source": [
    "# each table in the dictionaty is a pandas dataframe\n",
    "\n",
    "type(data_dict[\"transactions\"])"
   ]
  },
  {
   "cell_type": "code",
   "execution_count": 4,
   "metadata": {},
   "outputs": [
    {
     "data": {
      "text/plain": [
       "(500, 11)"
      ]
     },
     "execution_count": 4,
     "metadata": {},
     "output_type": "execute_result"
    }
   ],
   "source": [
    "# capture all 3 data tables into a pandas dataframe\n",
    "\n",
    "data = data_dict[\"transactions\"].merge(\n",
    "    data_dict[\"sessions\"]).merge(data_dict[\"customers\"])\n",
    "\n",
    "data.shape"
   ]
  },
  {
   "cell_type": "code",
   "execution_count": 5,
   "metadata": {},
   "outputs": [],
   "source": [
    "# select the columns with which we will work in this recipe\n",
    "\n",
    "cols = ['customer_id',\n",
    "        'transaction_id',\n",
    "        'transaction_time',\n",
    "        'amount'\n",
    "        ]\n",
    "\n",
    "data = data[cols]"
   ]
  },
  {
   "cell_type": "code",
   "execution_count": 6,
   "metadata": {},
   "outputs": [
    {
     "data": {
      "text/html": [
       "<div>\n",
       "<style scoped>\n",
       "    .dataframe tbody tr th:only-of-type {\n",
       "        vertical-align: middle;\n",
       "    }\n",
       "\n",
       "    .dataframe tbody tr th {\n",
       "        vertical-align: top;\n",
       "    }\n",
       "\n",
       "    .dataframe thead th {\n",
       "        text-align: right;\n",
       "    }\n",
       "</style>\n",
       "<table border=\"1\" class=\"dataframe\">\n",
       "  <thead>\n",
       "    <tr style=\"text-align: right;\">\n",
       "      <th></th>\n",
       "      <th>customer_id</th>\n",
       "      <th>transaction_id</th>\n",
       "      <th>transaction_time</th>\n",
       "      <th>amount</th>\n",
       "    </tr>\n",
       "  </thead>\n",
       "  <tbody>\n",
       "    <tr>\n",
       "      <th>0</th>\n",
       "      <td>2</td>\n",
       "      <td>298</td>\n",
       "      <td>2014-01-01 00:00:00</td>\n",
       "      <td>127.64</td>\n",
       "    </tr>\n",
       "    <tr>\n",
       "      <th>1</th>\n",
       "      <td>2</td>\n",
       "      <td>2</td>\n",
       "      <td>2014-01-01 00:01:05</td>\n",
       "      <td>109.48</td>\n",
       "    </tr>\n",
       "    <tr>\n",
       "      <th>2</th>\n",
       "      <td>2</td>\n",
       "      <td>308</td>\n",
       "      <td>2014-01-01 00:02:10</td>\n",
       "      <td>95.06</td>\n",
       "    </tr>\n",
       "    <tr>\n",
       "      <th>3</th>\n",
       "      <td>2</td>\n",
       "      <td>116</td>\n",
       "      <td>2014-01-01 00:03:15</td>\n",
       "      <td>78.92</td>\n",
       "    </tr>\n",
       "    <tr>\n",
       "      <th>4</th>\n",
       "      <td>2</td>\n",
       "      <td>371</td>\n",
       "      <td>2014-01-01 00:04:20</td>\n",
       "      <td>31.54</td>\n",
       "    </tr>\n",
       "  </tbody>\n",
       "</table>\n",
       "</div>"
      ],
      "text/plain": [
       "   customer_id  transaction_id    transaction_time  amount\n",
       "0            2             298 2014-01-01 00:00:00  127.64\n",
       "1            2               2 2014-01-01 00:01:05  109.48\n",
       "2            2             308 2014-01-01 00:02:10   95.06\n",
       "3            2             116 2014-01-01 00:03:15   78.92\n",
       "4            2             371 2014-01-01 00:04:20   31.54"
      ]
     },
     "execution_count": 6,
     "metadata": {},
     "output_type": "execute_result"
    }
   ],
   "source": [
    "# display data\n",
    "\n",
    "data.head()"
   ]
  },
  {
   "cell_type": "code",
   "execution_count": 7,
   "metadata": {},
   "outputs": [
    {
     "name": "stdout",
     "output_type": "stream",
     "text": [
      "Number of customers: 5\n",
      "Number of transactions: 500\n"
     ]
    }
   ],
   "source": [
    "print('Number of customers: {}'.format(data['customer_id'].nunique()))\n",
    "print('Number of transactions: {}'.format(data['transaction_id'].nunique()))"
   ]
  },
  {
   "cell_type": "code",
   "execution_count": 8,
   "metadata": {},
   "outputs": [
    {
     "data": {
      "text/plain": [
       "customer_id\n",
       "1    126\n",
       "2     93\n",
       "3     93\n",
       "4    109\n",
       "5     79\n",
       "Name: transaction_id, dtype: int64"
      ]
     },
     "execution_count": 8,
     "metadata": {},
     "output_type": "execute_result"
    }
   ],
   "source": [
    "# dispay number of transactions per customer\n",
    "\n",
    "data.groupby('customer_id')['transaction_id'].count()"
   ]
  },
  {
   "cell_type": "markdown",
   "metadata": {},
   "source": [
    "## Aggregation with pandas"
   ]
  },
  {
   "cell_type": "code",
   "execution_count": 9,
   "metadata": {},
   "outputs": [
    {
     "data": {
      "text/html": [
       "<div>\n",
       "<style scoped>\n",
       "    .dataframe tbody tr th:only-of-type {\n",
       "        vertical-align: middle;\n",
       "    }\n",
       "\n",
       "    .dataframe tbody tr th {\n",
       "        vertical-align: top;\n",
       "    }\n",
       "\n",
       "    .dataframe thead th {\n",
       "        text-align: right;\n",
       "    }\n",
       "</style>\n",
       "<table border=\"1\" class=\"dataframe\">\n",
       "  <thead>\n",
       "    <tr style=\"text-align: right;\">\n",
       "      <th></th>\n",
       "      <th>total_amount</th>\n",
       "      <th>max_amount</th>\n",
       "      <th>min_amount</th>\n",
       "      <th>mean_amount</th>\n",
       "      <th>median_amount</th>\n",
       "      <th>std_amount</th>\n",
       "      <th>number of transactions</th>\n",
       "    </tr>\n",
       "    <tr>\n",
       "      <th>customer_id</th>\n",
       "      <th></th>\n",
       "      <th></th>\n",
       "      <th></th>\n",
       "      <th></th>\n",
       "      <th></th>\n",
       "      <th></th>\n",
       "      <th></th>\n",
       "    </tr>\n",
       "  </thead>\n",
       "  <tbody>\n",
       "    <tr>\n",
       "      <th>1</th>\n",
       "      <td>9025.62</td>\n",
       "      <td>139.43</td>\n",
       "      <td>5.81</td>\n",
       "      <td>71.631905</td>\n",
       "      <td>69.715</td>\n",
       "      <td>40.442059</td>\n",
       "      <td>126</td>\n",
       "    </tr>\n",
       "    <tr>\n",
       "      <th>2</th>\n",
       "      <td>7200.28</td>\n",
       "      <td>146.81</td>\n",
       "      <td>8.73</td>\n",
       "      <td>77.422366</td>\n",
       "      <td>75.960</td>\n",
       "      <td>37.705178</td>\n",
       "      <td>93</td>\n",
       "    </tr>\n",
       "    <tr>\n",
       "      <th>3</th>\n",
       "      <td>6236.62</td>\n",
       "      <td>149.15</td>\n",
       "      <td>5.89</td>\n",
       "      <td>67.060430</td>\n",
       "      <td>58.930</td>\n",
       "      <td>43.683296</td>\n",
       "      <td>93</td>\n",
       "    </tr>\n",
       "    <tr>\n",
       "      <th>4</th>\n",
       "      <td>8727.68</td>\n",
       "      <td>149.95</td>\n",
       "      <td>5.73</td>\n",
       "      <td>80.070459</td>\n",
       "      <td>81.410</td>\n",
       "      <td>45.068765</td>\n",
       "      <td>109</td>\n",
       "    </tr>\n",
       "    <tr>\n",
       "      <th>5</th>\n",
       "      <td>6349.66</td>\n",
       "      <td>149.02</td>\n",
       "      <td>7.55</td>\n",
       "      <td>80.375443</td>\n",
       "      <td>78.870</td>\n",
       "      <td>44.095630</td>\n",
       "      <td>79</td>\n",
       "    </tr>\n",
       "  </tbody>\n",
       "</table>\n",
       "</div>"
      ],
      "text/plain": [
       "             total_amount  max_amount  min_amount  mean_amount  median_amount  \\\n",
       "customer_id                                                                     \n",
       "1                 9025.62      139.43        5.81    71.631905         69.715   \n",
       "2                 7200.28      146.81        8.73    77.422366         75.960   \n",
       "3                 6236.62      149.15        5.89    67.060430         58.930   \n",
       "4                 8727.68      149.95        5.73    80.070459         81.410   \n",
       "5                 6349.66      149.02        7.55    80.375443         78.870   \n",
       "\n",
       "             std_amount  number of transactions  \n",
       "customer_id                                      \n",
       "1             40.442059                     126  \n",
       "2             37.705178                      93  \n",
       "3             43.683296                      93  \n",
       "4             45.068765                     109  \n",
       "5             44.095630                      79  "
      ]
     },
     "execution_count": 9,
     "metadata": {},
     "output_type": "execute_result"
    }
   ],
   "source": [
    "# make a list of the operations we want to perform\n",
    "operations = ['sum', 'max', 'min', 'mean', 'median', 'std', 'count']\n",
    "\n",
    "# make a list of the new feature names\n",
    "feature_names = [\n",
    "    'total_amount', 'max_amount', 'min_amount', 'mean_amount', 'median_amount',\n",
    "    'std_amount', 'number of transactions'\n",
    "]\n",
    "\n",
    "df = pd.DataFrame()\n",
    "\n",
    "# capture new features in a pandas dataframe\n",
    "df[feature_names] = data.groupby('customer_id')['amount'].agg(operations)\n",
    "\n",
    "df"
   ]
  },
  {
   "cell_type": "markdown",
   "metadata": {},
   "source": [
    "## Aggregation with Featuretools"
   ]
  },
  {
   "cell_type": "code",
   "execution_count": 10,
   "metadata": {},
   "outputs": [
    {
     "data": {
      "text/plain": [
       "Entityset: customer_data\n",
       "  Entities:\n",
       "    transactions [Rows: 500, Columns: 4]\n",
       "  Relationships:\n",
       "    No relationships"
      ]
     },
     "execution_count": 10,
     "metadata": {},
     "output_type": "execute_result"
    }
   ],
   "source": [
    "# in order for feature tools to work, we need to create\n",
    "# entity sets\n",
    "\n",
    "# create and entity set and give it a name\n",
    "es = ft.EntitySet(id=\"customer_data\")\n",
    "\n",
    "# add transactions table to the entity set\n",
    "# basically we pass the entire dataframe indicating\n",
    "# the transaction_id as unique identifier\n",
    "# and the transaction time as the time index\n",
    "# there is one unique timestamp per transaction\n",
    "es.entity_from_dataframe(entity_id='transactions',\n",
    "                         dataframe=data[cols],\n",
    "                         index=\"transaction_id\",\n",
    "                         time_index='transaction_time')\n",
    "\n",
    "# display the entity set\n",
    "es"
   ]
  },
  {
   "cell_type": "code",
   "execution_count": 11,
   "metadata": {},
   "outputs": [
    {
     "data": {
      "text/plain": [
       "Entityset: customer_data\n",
       "  Entities:\n",
       "    transactions [Rows: 500, Columns: 4]\n",
       "    customers [Rows: 5, Columns: 2]\n",
       "  Relationships:\n",
       "    transactions.customer_id -> customers.customer_id"
      ]
     },
     "execution_count": 11,
     "metadata": {},
     "output_type": "execute_result"
    }
   ],
   "source": [
    "# now we indicate that within the entity set\n",
    "# there is another table, with customer data,\n",
    "# each customer identified with a unique\n",
    "# customer id\n",
    "\n",
    "es.normalize_entity(base_entity_id=\"transactions\",\n",
    "                    new_entity_id=\"customers\",\n",
    "                    index=\"customer_id\")"
   ]
  },
  {
   "cell_type": "code",
   "execution_count": 12,
   "metadata": {},
   "outputs": [
    {
     "data": {
      "text/plain": [
       "['sum', 'max', 'min', 'mean', 'median', 'std', 'count']"
      ]
     },
     "execution_count": 12,
     "metadata": {},
     "output_type": "execute_result"
    }
   ],
   "source": [
    "# let's print out the operations we want to perform\n",
    "# we created this list in cell 9\n",
    "\n",
    "operations"
   ]
  },
  {
   "cell_type": "code",
   "execution_count": 13,
   "metadata": {},
   "outputs": [
    {
     "name": "stdout",
     "output_type": "stream",
     "text": [
      "Built 7 features\n",
      "Elapsed: 00:00 | Progress: 100%|██████████████████████████████████████████████████████████████████\n"
     ]
    },
    {
     "data": {
      "text/plain": [
       "[<Feature: SUM(transactions.amount)>,\n",
       " <Feature: MAX(transactions.amount)>,\n",
       " <Feature: MIN(transactions.amount)>,\n",
       " <Feature: MEAN(transactions.amount)>,\n",
       " <Feature: MEDIAN(transactions.amount)>,\n",
       " <Feature: STD(transactions.amount)>,\n",
       " <Feature: COUNT(transactions)>]"
      ]
     },
     "execution_count": 13,
     "metadata": {},
     "output_type": "execute_result"
    }
   ],
   "source": [
    "# set up the feature creation object\n",
    "# to aggregate transactions at customer level\n",
    "\n",
    "feature_matrix, features = ft.dfs(entityset=es,\n",
    "                                  target_entity=\"customers\",\n",
    "                                  agg_primitives=operations,\n",
    "                                  trans_primitives=[],\n",
    "                                  verbose=True,\n",
    "                                  )\n",
    "\n",
    "# display name of created features\n",
    "features"
   ]
  },
  {
   "cell_type": "code",
   "execution_count": 14,
   "metadata": {},
   "outputs": [
    {
     "data": {
      "text/html": [
       "<div>\n",
       "<style scoped>\n",
       "    .dataframe tbody tr th:only-of-type {\n",
       "        vertical-align: middle;\n",
       "    }\n",
       "\n",
       "    .dataframe tbody tr th {\n",
       "        vertical-align: top;\n",
       "    }\n",
       "\n",
       "    .dataframe thead th {\n",
       "        text-align: right;\n",
       "    }\n",
       "</style>\n",
       "<table border=\"1\" class=\"dataframe\">\n",
       "  <thead>\n",
       "    <tr style=\"text-align: right;\">\n",
       "      <th></th>\n",
       "      <th>SUM(transactions.amount)</th>\n",
       "      <th>MAX(transactions.amount)</th>\n",
       "      <th>MIN(transactions.amount)</th>\n",
       "      <th>MEAN(transactions.amount)</th>\n",
       "      <th>MEDIAN(transactions.amount)</th>\n",
       "      <th>STD(transactions.amount)</th>\n",
       "      <th>COUNT(transactions)</th>\n",
       "    </tr>\n",
       "    <tr>\n",
       "      <th>customer_id</th>\n",
       "      <th></th>\n",
       "      <th></th>\n",
       "      <th></th>\n",
       "      <th></th>\n",
       "      <th></th>\n",
       "      <th></th>\n",
       "      <th></th>\n",
       "    </tr>\n",
       "  </thead>\n",
       "  <tbody>\n",
       "    <tr>\n",
       "      <th>2</th>\n",
       "      <td>7200.28</td>\n",
       "      <td>146.81</td>\n",
       "      <td>8.73</td>\n",
       "      <td>77.422366</td>\n",
       "      <td>75.960</td>\n",
       "      <td>37.705178</td>\n",
       "      <td>93</td>\n",
       "    </tr>\n",
       "    <tr>\n",
       "      <th>5</th>\n",
       "      <td>6349.66</td>\n",
       "      <td>149.02</td>\n",
       "      <td>7.55</td>\n",
       "      <td>80.375443</td>\n",
       "      <td>78.870</td>\n",
       "      <td>44.095630</td>\n",
       "      <td>79</td>\n",
       "    </tr>\n",
       "    <tr>\n",
       "      <th>4</th>\n",
       "      <td>8727.68</td>\n",
       "      <td>149.95</td>\n",
       "      <td>5.73</td>\n",
       "      <td>80.070459</td>\n",
       "      <td>81.410</td>\n",
       "      <td>45.068765</td>\n",
       "      <td>109</td>\n",
       "    </tr>\n",
       "    <tr>\n",
       "      <th>1</th>\n",
       "      <td>9025.62</td>\n",
       "      <td>139.43</td>\n",
       "      <td>5.81</td>\n",
       "      <td>71.631905</td>\n",
       "      <td>69.715</td>\n",
       "      <td>40.442059</td>\n",
       "      <td>126</td>\n",
       "    </tr>\n",
       "    <tr>\n",
       "      <th>3</th>\n",
       "      <td>6236.62</td>\n",
       "      <td>149.15</td>\n",
       "      <td>5.89</td>\n",
       "      <td>67.060430</td>\n",
       "      <td>58.930</td>\n",
       "      <td>43.683296</td>\n",
       "      <td>93</td>\n",
       "    </tr>\n",
       "  </tbody>\n",
       "</table>\n",
       "</div>"
      ],
      "text/plain": [
       "             SUM(transactions.amount)  MAX(transactions.amount)  \\\n",
       "customer_id                                                       \n",
       "2                             7200.28                    146.81   \n",
       "5                             6349.66                    149.02   \n",
       "4                             8727.68                    149.95   \n",
       "1                             9025.62                    139.43   \n",
       "3                             6236.62                    149.15   \n",
       "\n",
       "             MIN(transactions.amount)  MEAN(transactions.amount)  \\\n",
       "customer_id                                                        \n",
       "2                                8.73                  77.422366   \n",
       "5                                7.55                  80.375443   \n",
       "4                                5.73                  80.070459   \n",
       "1                                5.81                  71.631905   \n",
       "3                                5.89                  67.060430   \n",
       "\n",
       "             MEDIAN(transactions.amount)  STD(transactions.amount)  \\\n",
       "customer_id                                                          \n",
       "2                                 75.960                 37.705178   \n",
       "5                                 78.870                 44.095630   \n",
       "4                                 81.410                 45.068765   \n",
       "1                                 69.715                 40.442059   \n",
       "3                                 58.930                 43.683296   \n",
       "\n",
       "             COUNT(transactions)  \n",
       "customer_id                       \n",
       "2                             93  \n",
       "5                             79  \n",
       "4                            109  \n",
       "1                            126  \n",
       "3                             93  "
      ]
     },
     "execution_count": 14,
     "metadata": {},
     "output_type": "execute_result"
    }
   ],
   "source": [
    "# dataframe with the new features\n",
    "feature_matrix"
   ]
  },
  {
   "cell_type": "markdown",
   "metadata": {},
   "source": [
    "If you compare this table to the one created in 8, the values should be identical."
   ]
  }
 ],
 "metadata": {
  "kernelspec": {
   "display_name": "ftools",
   "language": "python",
   "name": "ftools"
  },
  "language_info": {
   "codemirror_mode": {
    "name": "ipython",
    "version": 3
   },
   "file_extension": ".py",
   "mimetype": "text/x-python",
   "name": "python",
   "nbconvert_exporter": "python",
   "pygments_lexer": "ipython3",
   "version": "3.7.3"
  },
  "toc": {
   "nav_menu": {},
   "number_sections": true,
   "sideBar": true,
   "skip_h1_title": false,
   "toc_cell": false,
   "toc_position": {},
   "toc_section_display": "block",
   "toc_window_display": true
  }
 },
 "nbformat": 4,
 "nbformat_minor": 2
}
