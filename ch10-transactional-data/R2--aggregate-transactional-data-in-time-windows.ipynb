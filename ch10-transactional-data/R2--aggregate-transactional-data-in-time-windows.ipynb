{
 "cells": [
  {
   "cell_type": "code",
   "execution_count": 1,
   "metadata": {},
   "outputs": [],
   "source": [
    "import pandas as pd\n",
    "import matplotlib.pyplot as plt"
   ]
  },
  {
   "cell_type": "code",
   "execution_count": 2,
   "metadata": {},
   "outputs": [
    {
     "data": {
      "text/html": [
       "<div>\n",
       "<style scoped>\n",
       "    .dataframe tbody tr th:only-of-type {\n",
       "        vertical-align: middle;\n",
       "    }\n",
       "\n",
       "    .dataframe tbody tr th {\n",
       "        vertical-align: top;\n",
       "    }\n",
       "\n",
       "    .dataframe thead th {\n",
       "        text-align: right;\n",
       "    }\n",
       "</style>\n",
       "<table border=\"1\" class=\"dataframe\">\n",
       "  <thead>\n",
       "    <tr style=\"text-align: right;\">\n",
       "      <th></th>\n",
       "      <th>date</th>\n",
       "      <th>Appliances</th>\n",
       "      <th>lights</th>\n",
       "    </tr>\n",
       "  </thead>\n",
       "  <tbody>\n",
       "    <tr>\n",
       "      <th>0</th>\n",
       "      <td>2016-01-11 17:00:00</td>\n",
       "      <td>60</td>\n",
       "      <td>30</td>\n",
       "    </tr>\n",
       "    <tr>\n",
       "      <th>1</th>\n",
       "      <td>2016-01-11 17:10:00</td>\n",
       "      <td>60</td>\n",
       "      <td>30</td>\n",
       "    </tr>\n",
       "    <tr>\n",
       "      <th>2</th>\n",
       "      <td>2016-01-11 17:20:00</td>\n",
       "      <td>50</td>\n",
       "      <td>30</td>\n",
       "    </tr>\n",
       "    <tr>\n",
       "      <th>3</th>\n",
       "      <td>2016-01-11 17:30:00</td>\n",
       "      <td>50</td>\n",
       "      <td>40</td>\n",
       "    </tr>\n",
       "    <tr>\n",
       "      <th>4</th>\n",
       "      <td>2016-01-11 17:40:00</td>\n",
       "      <td>60</td>\n",
       "      <td>40</td>\n",
       "    </tr>\n",
       "  </tbody>\n",
       "</table>\n",
       "</div>"
      ],
      "text/plain": [
       "                  date  Appliances  lights\n",
       "0  2016-01-11 17:00:00          60      30\n",
       "1  2016-01-11 17:10:00          60      30\n",
       "2  2016-01-11 17:20:00          50      30\n",
       "3  2016-01-11 17:30:00          50      40\n",
       "4  2016-01-11 17:40:00          60      40"
      ]
     },
     "execution_count": 2,
     "metadata": {},
     "output_type": "execute_result"
    }
   ],
   "source": [
    "# load the appliances energy prediction data set\n",
    "\n",
    "cols = ['date', 'Appliances', 'lights']\n",
    "\n",
    "data = pd.read_csv('energydata_complete.csv', usecols=cols)\n",
    "\n",
    "data.head()"
   ]
  },
  {
   "cell_type": "code",
   "execution_count": 3,
   "metadata": {},
   "outputs": [
    {
     "data": {
      "text/plain": [
       "(19735, 3)"
      ]
     },
     "execution_count": 3,
     "metadata": {},
     "output_type": "execute_result"
    }
   ],
   "source": [
    "data.shape"
   ]
  },
  {
   "cell_type": "code",
   "execution_count": 4,
   "metadata": {},
   "outputs": [
    {
     "data": {
      "text/plain": [
       "date          object\n",
       "Appliances     int64\n",
       "lights         int64\n",
       "dtype: object"
      ]
     },
     "execution_count": 4,
     "metadata": {},
     "output_type": "execute_result"
    }
   ],
   "source": [
    "data.dtypes"
   ]
  },
  {
   "cell_type": "code",
   "execution_count": 5,
   "metadata": {},
   "outputs": [
    {
     "data": {
      "text/plain": [
       "Text(0, 0.5, 'Number of rows')"
      ]
     },
     "execution_count": 5,
     "metadata": {},
     "output_type": "execute_result"
    },
    {
     "data": {
      "image/png": "[encoded data removed]",
      "text/plain": [
       "<Figure size 432x288 with 1 Axes>"
      ]
     },
     "metadata": {
      "needs_background": "light"
     },
     "output_type": "display_data"
    }
   ],
   "source": [
    "# Make histogram of electirivy consumption by appliances\n",
    "\n",
    "data['Appliances'].hist(bins=30)\n",
    "plt.title('Energy consumption by Appliances in Kh')\n",
    "plt.xlabel('Energy consumption in Kh')\n",
    "plt.ylabel('Number of rows')"
   ]
  },
  {
   "cell_type": "code",
   "execution_count": 6,
   "metadata": {},
   "outputs": [
    {
     "data": {
      "text/plain": [
       "Text(0, 0.5, 'Number of rows')"
      ]
     },
     "execution_count": 6,
     "metadata": {},
     "output_type": "execute_result"
    },
    {
     "data": {
      "image/png": "[encoded data removed]",
      "text/plain": [
       "<Figure size 432x288 with 1 Axes>"
      ]
     },
     "metadata": {
      "needs_background": "light"
     },
     "output_type": "display_data"
    }
   ],
   "source": [
    "# Make histogram of electirivy consumption by lights\n",
    "\n",
    "data['lights'].value_counts().plot.bar()\n",
    "plt.title('Energy consumption by lights in Kh')\n",
    "plt.xlabel('Energy consumption in Kh')\n",
    "plt.ylabel('Number of rows')"
   ]
  },
  {
   "cell_type": "code",
   "execution_count": 7,
   "metadata": {},
   "outputs": [
    {
     "data": {
      "text/plain": [
       "min    2016-01-11 17:00:00\n",
       "max    2016-05-27 18:00:00\n",
       "Name: date, dtype: object"
      ]
     },
     "execution_count": 7,
     "metadata": {},
     "output_type": "execute_result"
    }
   ],
   "source": [
    "# check maximun and minimum dates\n",
    "data['date'].agg(['min', 'max'])"
   ]
  },
  {
   "cell_type": "code",
   "execution_count": 8,
   "metadata": {},
   "outputs": [],
   "source": [
    "# parse the date column as datetime data type\n",
    "\n",
    "data['date'] = pd.to_datetime(data['date'])"
   ]
  },
  {
   "cell_type": "code",
   "execution_count": 9,
   "metadata": {},
   "outputs": [
    {
     "data": {
      "text/plain": [
       "Text(0.5, 1.0, 'Energy consumption by Appliances in time')"
      ]
     },
     "execution_count": 9,
     "metadata": {},
     "output_type": "execute_result"
    },
    {
     "data": {
      "image/png": "[encoded data removed]",
      "text/plain": [
       "<Figure size 864x288 with 1 Axes>"
      ]
     },
     "metadata": {
      "needs_background": "light"
     },
     "output_type": "display_data"
    }
   ],
   "source": [
    "# plot consumption per timepoint by appliances\n",
    "\n",
    "# I create a copy of the dataframe, not to alter the original dataframe structure\n",
    "# which s the one I will use in the recipe in the book\n",
    "\n",
    "tmp = data.copy()\n",
    "tmp.index = tmp['date']\n",
    "\n",
    "tmp['Appliances'].plot(figsize=(12, 4))\n",
    "plt.ylabel('Energy in Kh')\n",
    "plt.title('Energy consumption by Appliances in time')"
   ]
  },
  {
   "cell_type": "code",
   "execution_count": 10,
   "metadata": {},
   "outputs": [
    {
     "data": {
      "text/plain": [
       "Text(0.5, 1.0, 'Energy consumption by lights in time')"
      ]
     },
     "execution_count": 10,
     "metadata": {},
     "output_type": "execute_result"
    },
    {
     "data": {
      "image/png": "[encoded data removed]",
      "text/plain": [
       "<Figure size 864x288 with 1 Axes>"
      ]
     },
     "metadata": {
      "needs_background": "light"
     },
     "output_type": "display_data"
    }
   ],
   "source": [
    "# plot consumption per timepoint by lights\n",
    "\n",
    "tmp['lights'].plot(figsize=(12,4))\n",
    "plt.ylabel('Energy in Kh')\n",
    "plt.title('Energy consumption by lights in time')"
   ]
  },
  {
   "cell_type": "markdown",
   "metadata": {},
   "source": [
    "## Determine statistical parameters per hr\n",
    "### Single operation"
   ]
  },
  {
   "cell_type": "code",
   "execution_count": 11,
   "metadata": {
    "scrolled": true
   },
   "outputs": [
    {
     "data": {
      "text/html": [
       "<div>\n",
       "<style scoped>\n",
       "    .dataframe tbody tr th:only-of-type {\n",
       "        vertical-align: middle;\n",
       "    }\n",
       "\n",
       "    .dataframe tbody tr th {\n",
       "        vertical-align: top;\n",
       "    }\n",
       "\n",
       "    .dataframe thead th {\n",
       "        text-align: right;\n",
       "    }\n",
       "</style>\n",
       "<table border=\"1\" class=\"dataframe\">\n",
       "  <thead>\n",
       "    <tr style=\"text-align: right;\">\n",
       "      <th></th>\n",
       "      <th>date</th>\n",
       "      <th>Appliances</th>\n",
       "      <th>lights</th>\n",
       "    </tr>\n",
       "  </thead>\n",
       "  <tbody>\n",
       "    <tr>\n",
       "      <th>0</th>\n",
       "      <td>2016-01-11 17:00:00</td>\n",
       "      <td>NaN</td>\n",
       "      <td>NaN</td>\n",
       "    </tr>\n",
       "    <tr>\n",
       "      <th>1</th>\n",
       "      <td>2016-01-11 17:10:00</td>\n",
       "      <td>NaN</td>\n",
       "      <td>NaN</td>\n",
       "    </tr>\n",
       "    <tr>\n",
       "      <th>2</th>\n",
       "      <td>2016-01-11 17:20:00</td>\n",
       "      <td>NaN</td>\n",
       "      <td>NaN</td>\n",
       "    </tr>\n",
       "    <tr>\n",
       "      <th>3</th>\n",
       "      <td>2016-01-11 17:30:00</td>\n",
       "      <td>NaN</td>\n",
       "      <td>NaN</td>\n",
       "    </tr>\n",
       "    <tr>\n",
       "      <th>4</th>\n",
       "      <td>2016-01-11 17:40:00</td>\n",
       "      <td>NaN</td>\n",
       "      <td>NaN</td>\n",
       "    </tr>\n",
       "    <tr>\n",
       "      <th>5</th>\n",
       "      <td>2016-01-11 17:50:00</td>\n",
       "      <td>55.000000</td>\n",
       "      <td>35.000000</td>\n",
       "    </tr>\n",
       "    <tr>\n",
       "      <th>6</th>\n",
       "      <td>2016-01-11 18:00:00</td>\n",
       "      <td>55.000000</td>\n",
       "      <td>38.333333</td>\n",
       "    </tr>\n",
       "    <tr>\n",
       "      <th>7</th>\n",
       "      <td>2016-01-11 18:10:00</td>\n",
       "      <td>55.000000</td>\n",
       "      <td>41.666667</td>\n",
       "    </tr>\n",
       "    <tr>\n",
       "      <th>8</th>\n",
       "      <td>2016-01-11 18:20:00</td>\n",
       "      <td>56.666667</td>\n",
       "      <td>43.333333</td>\n",
       "    </tr>\n",
       "    <tr>\n",
       "      <th>9</th>\n",
       "      <td>2016-01-11 18:30:00</td>\n",
       "      <td>60.000000</td>\n",
       "      <td>43.333333</td>\n",
       "    </tr>\n",
       "  </tbody>\n",
       "</table>\n",
       "</div>"
      ],
      "text/plain": [
       "                 date  Appliances     lights\n",
       "0 2016-01-11 17:00:00         NaN        NaN\n",
       "1 2016-01-11 17:10:00         NaN        NaN\n",
       "2 2016-01-11 17:20:00         NaN        NaN\n",
       "3 2016-01-11 17:30:00         NaN        NaN\n",
       "4 2016-01-11 17:40:00         NaN        NaN\n",
       "5 2016-01-11 17:50:00   55.000000  35.000000\n",
       "6 2016-01-11 18:00:00   55.000000  38.333333\n",
       "7 2016-01-11 18:10:00   55.000000  41.666667\n",
       "8 2016-01-11 18:20:00   56.666667  43.333333\n",
       "9 2016-01-11 18:30:00   60.000000  43.333333"
      ]
     },
     "execution_count": 11,
     "metadata": {},
     "output_type": "execute_result"
    }
   ],
   "source": [
    "# aggregate the data in 60 min views\n",
    "# the value displayed by the features represents the average of\n",
    "# the current and 5 precedent rows of data\n",
    "\n",
    "data_rolled = data.rolling(window=6, on='date').mean()\n",
    "\n",
    "data_rolled.head(10)"
   ]
  },
  {
   "cell_type": "code",
   "execution_count": 12,
   "metadata": {},
   "outputs": [
    {
     "data": {
      "text/html": [
       "<div>\n",
       "<style scoped>\n",
       "    .dataframe tbody tr th:only-of-type {\n",
       "        vertical-align: middle;\n",
       "    }\n",
       "\n",
       "    .dataframe tbody tr th {\n",
       "        vertical-align: top;\n",
       "    }\n",
       "\n",
       "    .dataframe thead th {\n",
       "        text-align: right;\n",
       "    }\n",
       "</style>\n",
       "<table border=\"1\" class=\"dataframe\">\n",
       "  <thead>\n",
       "    <tr style=\"text-align: right;\">\n",
       "      <th></th>\n",
       "      <th>date</th>\n",
       "      <th>Appliances</th>\n",
       "      <th>lights</th>\n",
       "    </tr>\n",
       "  </thead>\n",
       "  <tbody>\n",
       "    <tr>\n",
       "      <th>0</th>\n",
       "      <td>2016-01-11 17:00:00</td>\n",
       "      <td>NaN</td>\n",
       "      <td>NaN</td>\n",
       "    </tr>\n",
       "    <tr>\n",
       "      <th>1</th>\n",
       "      <td>2016-01-11 17:10:00</td>\n",
       "      <td>NaN</td>\n",
       "      <td>NaN</td>\n",
       "    </tr>\n",
       "    <tr>\n",
       "      <th>2</th>\n",
       "      <td>2016-01-11 17:20:00</td>\n",
       "      <td>NaN</td>\n",
       "      <td>NaN</td>\n",
       "    </tr>\n",
       "    <tr>\n",
       "      <th>3</th>\n",
       "      <td>2016-01-11 17:30:00</td>\n",
       "      <td>NaN</td>\n",
       "      <td>NaN</td>\n",
       "    </tr>\n",
       "    <tr>\n",
       "      <th>4</th>\n",
       "      <td>2016-01-11 17:40:00</td>\n",
       "      <td>NaN</td>\n",
       "      <td>NaN</td>\n",
       "    </tr>\n",
       "    <tr>\n",
       "      <th>5</th>\n",
       "      <td>2016-01-11 17:50:00</td>\n",
       "      <td>55.000000</td>\n",
       "      <td>35.000000</td>\n",
       "    </tr>\n",
       "    <tr>\n",
       "      <th>6</th>\n",
       "      <td>2016-01-11 18:00:00</td>\n",
       "      <td>55.000000</td>\n",
       "      <td>38.333333</td>\n",
       "    </tr>\n",
       "    <tr>\n",
       "      <th>7</th>\n",
       "      <td>2016-01-11 18:10:00</td>\n",
       "      <td>55.000000</td>\n",
       "      <td>41.666667</td>\n",
       "    </tr>\n",
       "    <tr>\n",
       "      <th>8</th>\n",
       "      <td>2016-01-11 18:20:00</td>\n",
       "      <td>56.666667</td>\n",
       "      <td>43.333333</td>\n",
       "    </tr>\n",
       "    <tr>\n",
       "      <th>9</th>\n",
       "      <td>2016-01-11 18:30:00</td>\n",
       "      <td>60.000000</td>\n",
       "      <td>43.333333</td>\n",
       "    </tr>\n",
       "  </tbody>\n",
       "</table>\n",
       "</div>"
      ],
      "text/plain": [
       "                 date  Appliances     lights\n",
       "0 2016-01-11 17:00:00         NaN        NaN\n",
       "1 2016-01-11 17:10:00         NaN        NaN\n",
       "2 2016-01-11 17:20:00         NaN        NaN\n",
       "3 2016-01-11 17:30:00         NaN        NaN\n",
       "4 2016-01-11 17:40:00         NaN        NaN\n",
       "5 2016-01-11 17:50:00   55.000000  35.000000\n",
       "6 2016-01-11 18:00:00   55.000000  38.333333\n",
       "7 2016-01-11 18:10:00   55.000000  41.666667\n",
       "8 2016-01-11 18:20:00   56.666667  43.333333\n",
       "9 2016-01-11 18:30:00   60.000000  43.333333"
      ]
     },
     "execution_count": 12,
     "metadata": {},
     "output_type": "execute_result"
    }
   ],
   "source": [
    "# same as previous but with a different implementation of the window argument\n",
    "# instead of averaging the previous 6 rows, now we indicate a time period\n",
    "# pandas rolling will use the date variable to determine the periods\n",
    "\n",
    "data_rolled = data.rolling(window='60min', on='date', min_periods=6).mean()\n",
    "\n",
    "data_rolled.head(10)"
   ]
  },
  {
   "cell_type": "markdown",
   "metadata": {},
   "source": [
    "### Multiple built-in operations"
   ]
  },
  {
   "cell_type": "code",
   "execution_count": 13,
   "metadata": {},
   "outputs": [],
   "source": [
    "# now let's create multiple summaries in for every 60 min window\n",
    "\n",
    "# make a list of the operations we want to perform\n",
    "operations = ['sum', 'max', 'min', 'mean', 'median', 'std']"
   ]
  },
  {
   "cell_type": "code",
   "execution_count": 14,
   "metadata": {},
   "outputs": [
    {
     "data": {
      "text/plain": [
       "{'Appliances': ['sum', 'max', 'min', 'mean', 'median', 'std'],\n",
       " 'lights': ['sum', 'max', 'min', 'mean', 'median', 'std']}"
      ]
     },
     "execution_count": 14,
     "metadata": {},
     "output_type": "execute_result"
    }
   ],
   "source": [
    "# create a dictionary with the operations to apply to each variable\n",
    "# in this example we will apply all operations to both variables\n",
    "\n",
    "op_dict = {key: operations for key in ['Appliances', 'lights']}\n",
    "op_dict"
   ]
  },
  {
   "cell_type": "code",
   "execution_count": 15,
   "metadata": {},
   "outputs": [
    {
     "data": {
      "text/html": [
       "<div>\n",
       "<style scoped>\n",
       "    .dataframe tbody tr th:only-of-type {\n",
       "        vertical-align: middle;\n",
       "    }\n",
       "\n",
       "    .dataframe tbody tr th {\n",
       "        vertical-align: top;\n",
       "    }\n",
       "\n",
       "    .dataframe thead tr th {\n",
       "        text-align: left;\n",
       "    }\n",
       "\n",
       "    .dataframe thead tr:last-of-type th {\n",
       "        text-align: right;\n",
       "    }\n",
       "</style>\n",
       "<table border=\"1\" class=\"dataframe\">\n",
       "  <thead>\n",
       "    <tr>\n",
       "      <th></th>\n",
       "      <th colspan=\"6\" halign=\"left\">Appliances</th>\n",
       "      <th colspan=\"6\" halign=\"left\">lights</th>\n",
       "    </tr>\n",
       "    <tr>\n",
       "      <th></th>\n",
       "      <th>sum</th>\n",
       "      <th>max</th>\n",
       "      <th>min</th>\n",
       "      <th>mean</th>\n",
       "      <th>median</th>\n",
       "      <th>std</th>\n",
       "      <th>sum</th>\n",
       "      <th>max</th>\n",
       "      <th>min</th>\n",
       "      <th>mean</th>\n",
       "      <th>median</th>\n",
       "      <th>std</th>\n",
       "    </tr>\n",
       "    <tr>\n",
       "      <th>date</th>\n",
       "      <th></th>\n",
       "      <th></th>\n",
       "      <th></th>\n",
       "      <th></th>\n",
       "      <th></th>\n",
       "      <th></th>\n",
       "      <th></th>\n",
       "      <th></th>\n",
       "      <th></th>\n",
       "      <th></th>\n",
       "      <th></th>\n",
       "      <th></th>\n",
       "    </tr>\n",
       "  </thead>\n",
       "  <tbody>\n",
       "    <tr>\n",
       "      <th>2016-01-11 17:00:00</th>\n",
       "      <td>60.0</td>\n",
       "      <td>60.0</td>\n",
       "      <td>60.0</td>\n",
       "      <td>60.000000</td>\n",
       "      <td>60.0</td>\n",
       "      <td>NaN</td>\n",
       "      <td>30.0</td>\n",
       "      <td>30.0</td>\n",
       "      <td>30.0</td>\n",
       "      <td>30.000000</td>\n",
       "      <td>30.0</td>\n",
       "      <td>NaN</td>\n",
       "    </tr>\n",
       "    <tr>\n",
       "      <th>2016-01-11 17:10:00</th>\n",
       "      <td>120.0</td>\n",
       "      <td>60.0</td>\n",
       "      <td>60.0</td>\n",
       "      <td>60.000000</td>\n",
       "      <td>60.0</td>\n",
       "      <td>0.000000</td>\n",
       "      <td>60.0</td>\n",
       "      <td>30.0</td>\n",
       "      <td>30.0</td>\n",
       "      <td>30.000000</td>\n",
       "      <td>30.0</td>\n",
       "      <td>0.000000</td>\n",
       "    </tr>\n",
       "    <tr>\n",
       "      <th>2016-01-11 17:20:00</th>\n",
       "      <td>170.0</td>\n",
       "      <td>60.0</td>\n",
       "      <td>50.0</td>\n",
       "      <td>56.666667</td>\n",
       "      <td>60.0</td>\n",
       "      <td>5.773503</td>\n",
       "      <td>90.0</td>\n",
       "      <td>30.0</td>\n",
       "      <td>30.0</td>\n",
       "      <td>30.000000</td>\n",
       "      <td>30.0</td>\n",
       "      <td>0.000000</td>\n",
       "    </tr>\n",
       "    <tr>\n",
       "      <th>2016-01-11 17:30:00</th>\n",
       "      <td>220.0</td>\n",
       "      <td>60.0</td>\n",
       "      <td>50.0</td>\n",
       "      <td>55.000000</td>\n",
       "      <td>55.0</td>\n",
       "      <td>5.773503</td>\n",
       "      <td>130.0</td>\n",
       "      <td>40.0</td>\n",
       "      <td>30.0</td>\n",
       "      <td>32.500000</td>\n",
       "      <td>30.0</td>\n",
       "      <td>5.000000</td>\n",
       "    </tr>\n",
       "    <tr>\n",
       "      <th>2016-01-11 17:40:00</th>\n",
       "      <td>280.0</td>\n",
       "      <td>60.0</td>\n",
       "      <td>50.0</td>\n",
       "      <td>56.000000</td>\n",
       "      <td>60.0</td>\n",
       "      <td>5.477226</td>\n",
       "      <td>170.0</td>\n",
       "      <td>40.0</td>\n",
       "      <td>30.0</td>\n",
       "      <td>34.000000</td>\n",
       "      <td>30.0</td>\n",
       "      <td>5.477226</td>\n",
       "    </tr>\n",
       "    <tr>\n",
       "      <th>2016-01-11 17:50:00</th>\n",
       "      <td>330.0</td>\n",
       "      <td>60.0</td>\n",
       "      <td>50.0</td>\n",
       "      <td>55.000000</td>\n",
       "      <td>55.0</td>\n",
       "      <td>5.477226</td>\n",
       "      <td>210.0</td>\n",
       "      <td>40.0</td>\n",
       "      <td>30.0</td>\n",
       "      <td>35.000000</td>\n",
       "      <td>35.0</td>\n",
       "      <td>5.477226</td>\n",
       "    </tr>\n",
       "    <tr>\n",
       "      <th>2016-01-11 18:00:00</th>\n",
       "      <td>330.0</td>\n",
       "      <td>60.0</td>\n",
       "      <td>50.0</td>\n",
       "      <td>55.000000</td>\n",
       "      <td>55.0</td>\n",
       "      <td>5.477226</td>\n",
       "      <td>230.0</td>\n",
       "      <td>50.0</td>\n",
       "      <td>30.0</td>\n",
       "      <td>38.333333</td>\n",
       "      <td>40.0</td>\n",
       "      <td>7.527727</td>\n",
       "    </tr>\n",
       "    <tr>\n",
       "      <th>2016-01-11 18:10:00</th>\n",
       "      <td>330.0</td>\n",
       "      <td>60.0</td>\n",
       "      <td>50.0</td>\n",
       "      <td>55.000000</td>\n",
       "      <td>55.0</td>\n",
       "      <td>5.477226</td>\n",
       "      <td>250.0</td>\n",
       "      <td>50.0</td>\n",
       "      <td>30.0</td>\n",
       "      <td>41.666667</td>\n",
       "      <td>40.0</td>\n",
       "      <td>7.527727</td>\n",
       "    </tr>\n",
       "    <tr>\n",
       "      <th>2016-01-11 18:20:00</th>\n",
       "      <td>340.0</td>\n",
       "      <td>60.0</td>\n",
       "      <td>50.0</td>\n",
       "      <td>56.666667</td>\n",
       "      <td>60.0</td>\n",
       "      <td>5.163978</td>\n",
       "      <td>260.0</td>\n",
       "      <td>50.0</td>\n",
       "      <td>40.0</td>\n",
       "      <td>43.333333</td>\n",
       "      <td>40.0</td>\n",
       "      <td>5.163978</td>\n",
       "    </tr>\n",
       "    <tr>\n",
       "      <th>2016-01-11 18:30:00</th>\n",
       "      <td>360.0</td>\n",
       "      <td>70.0</td>\n",
       "      <td>50.0</td>\n",
       "      <td>60.000000</td>\n",
       "      <td>60.0</td>\n",
       "      <td>6.324555</td>\n",
       "      <td>260.0</td>\n",
       "      <td>50.0</td>\n",
       "      <td>40.0</td>\n",
       "      <td>43.333333</td>\n",
       "      <td>40.0</td>\n",
       "      <td>5.163978</td>\n",
       "    </tr>\n",
       "  </tbody>\n",
       "</table>\n",
       "</div>"
      ],
      "text/plain": [
       "                    Appliances                                         lights  \\\n",
       "                           sum   max   min       mean median       std    sum   \n",
       "date                                                                            \n",
       "2016-01-11 17:00:00       60.0  60.0  60.0  60.000000   60.0       NaN   30.0   \n",
       "2016-01-11 17:10:00      120.0  60.0  60.0  60.000000   60.0  0.000000   60.0   \n",
       "2016-01-11 17:20:00      170.0  60.0  50.0  56.666667   60.0  5.773503   90.0   \n",
       "2016-01-11 17:30:00      220.0  60.0  50.0  55.000000   55.0  5.773503  130.0   \n",
       "2016-01-11 17:40:00      280.0  60.0  50.0  56.000000   60.0  5.477226  170.0   \n",
       "2016-01-11 17:50:00      330.0  60.0  50.0  55.000000   55.0  5.477226  210.0   \n",
       "2016-01-11 18:00:00      330.0  60.0  50.0  55.000000   55.0  5.477226  230.0   \n",
       "2016-01-11 18:10:00      330.0  60.0  50.0  55.000000   55.0  5.477226  250.0   \n",
       "2016-01-11 18:20:00      340.0  60.0  50.0  56.666667   60.0  5.163978  260.0   \n",
       "2016-01-11 18:30:00      360.0  70.0  50.0  60.000000   60.0  6.324555  260.0   \n",
       "\n",
       "                                                             \n",
       "                      max   min       mean median       std  \n",
       "date                                                         \n",
       "2016-01-11 17:00:00  30.0  30.0  30.000000   30.0       NaN  \n",
       "2016-01-11 17:10:00  30.0  30.0  30.000000   30.0  0.000000  \n",
       "2016-01-11 17:20:00  30.0  30.0  30.000000   30.0  0.000000  \n",
       "2016-01-11 17:30:00  40.0  30.0  32.500000   30.0  5.000000  \n",
       "2016-01-11 17:40:00  40.0  30.0  34.000000   30.0  5.477226  \n",
       "2016-01-11 17:50:00  40.0  30.0  35.000000   35.0  5.477226  \n",
       "2016-01-11 18:00:00  50.0  30.0  38.333333   40.0  7.527727  \n",
       "2016-01-11 18:10:00  50.0  30.0  41.666667   40.0  7.527727  \n",
       "2016-01-11 18:20:00  50.0  40.0  43.333333   40.0  5.163978  \n",
       "2016-01-11 18:30:00  50.0  40.0  43.333333   40.0  5.163978  "
      ]
     },
     "execution_count": 15,
     "metadata": {},
     "output_type": "execute_result"
    }
   ],
   "source": [
    "# create the aggregations\n",
    "\n",
    "data_rolled = data.set_index('date').rolling(window='60min').agg(op_dict)\n",
    "\n",
    "data_rolled.head(10)"
   ]
  },
  {
   "cell_type": "markdown",
   "metadata": {},
   "source": [
    "## There is more\n",
    "### User defined operations"
   ]
  },
  {
   "cell_type": "code",
   "execution_count": 16,
   "metadata": {},
   "outputs": [],
   "source": [
    "from scipy.signal import find_peaks"
   ]
  },
  {
   "cell_type": "code",
   "execution_count": 17,
   "metadata": {},
   "outputs": [],
   "source": [
    "def find_no_peaks(x):\n",
    "    peaks, _ = find_peaks(x)\n",
    "    return len(peaks)\n",
    "\n",
    "def find_no_valleys(x):\n",
    "    valleys, _ = find_peaks(1/x)\n",
    "    return len(valleys)"
   ]
  },
  {
   "cell_type": "code",
   "execution_count": 18,
   "metadata": {},
   "outputs": [],
   "source": [
    "# calculate number of local minima and maxima per day\n",
    "# ==> more or less 144 time intervals represent 24 hs\n",
    "\n",
    "data_rolled = data.set_index('date').rolling(window=144).agg([find_no_peaks, find_no_valleys])"
   ]
  },
  {
   "cell_type": "code",
   "execution_count": 19,
   "metadata": {
    "scrolled": false
   },
   "outputs": [
    {
     "name": "stdout",
     "output_type": "stream",
     "text": [
      "                       Appliances                        lights  \\\n",
      "                    find_no_peaks find_no_valleys find_no_peaks   \n",
      "date                                                              \n",
      "2016-01-12 17:00:00          25.0            26.0          14.0   \n",
      "\n",
      "                                     \n",
      "                    find_no_valleys  \n",
      "date                                 \n",
      "2016-01-12 17:00:00            13.0  \n",
      "                       Appliances                        lights  \\\n",
      "                    find_no_peaks find_no_valleys find_no_peaks   \n",
      "date                                                              \n",
      "2016-01-13 17:00:00          33.0            32.0          11.0   \n",
      "\n",
      "                                     \n",
      "                    find_no_valleys  \n",
      "date                                 \n",
      "2016-01-13 17:00:00            10.0  \n",
      "                       Appliances                        lights  \\\n",
      "                    find_no_peaks find_no_valleys find_no_peaks   \n",
      "date                                                              \n",
      "2016-01-14 17:00:00          29.0            30.0          12.0   \n",
      "\n",
      "                                     \n",
      "                    find_no_valleys  \n",
      "date                                 \n",
      "2016-01-14 17:00:00            12.0  \n",
      "                       Appliances                        lights  \\\n",
      "                    find_no_peaks find_no_valleys find_no_peaks   \n",
      "date                                                              \n",
      "2016-01-15 17:00:00          29.0            30.0          15.0   \n",
      "\n",
      "                                     \n",
      "                    find_no_valleys  \n",
      "date                                 \n",
      "2016-01-15 17:00:00            15.0  \n",
      "                       Appliances                        lights  \\\n",
      "                    find_no_peaks find_no_valleys find_no_peaks   \n",
      "date                                                              \n",
      "2016-01-16 17:00:00          28.0            29.0          10.0   \n",
      "\n",
      "                                     \n",
      "                    find_no_valleys  \n",
      "date                                 \n",
      "2016-01-16 17:00:00            11.0  \n",
      "                       Appliances                        lights  \\\n",
      "                    find_no_peaks find_no_valleys find_no_peaks   \n",
      "date                                                              \n",
      "2016-01-17 17:00:00          29.0            29.0          11.0   \n",
      "\n",
      "                                     \n",
      "                    find_no_valleys  \n",
      "date                                 \n",
      "2016-01-17 17:00:00            11.0  \n",
      "                       Appliances                        lights  \\\n",
      "                    find_no_peaks find_no_valleys find_no_peaks   \n",
      "date                                                              \n",
      "2016-01-18 17:00:00          34.0            33.0          12.0   \n",
      "\n",
      "                                     \n",
      "                    find_no_valleys  \n",
      "date                                 \n",
      "2016-01-18 17:00:00            11.0  \n",
      "                       Appliances                        lights  \\\n",
      "                    find_no_peaks find_no_valleys find_no_peaks   \n",
      "date                                                              \n",
      "2016-01-19 17:00:00          28.0            29.0          15.0   \n",
      "\n",
      "                                     \n",
      "                    find_no_valleys  \n",
      "date                                 \n",
      "2016-01-19 17:00:00            14.0  \n",
      "                       Appliances                        lights  \\\n",
      "                    find_no_peaks find_no_valleys find_no_peaks   \n",
      "date                                                              \n",
      "2016-01-20 17:00:00          32.0            31.0          17.0   \n",
      "\n",
      "                                     \n",
      "                    find_no_valleys  \n",
      "date                                 \n",
      "2016-01-20 17:00:00            16.0  \n"
     ]
    }
   ],
   "source": [
    "for row in range(144, 1440, 144):\n",
    "    print(data_rolled.iloc[[row]])"
   ]
  },
  {
   "cell_type": "code",
   "execution_count": 20,
   "metadata": {},
   "outputs": [],
   "source": [
    "# alternative implementation specifically indicating 1 day \n",
    "# in the window argument\n",
    "\n",
    "data_rolled = data.set_index('date').rolling(window='1d').agg([find_no_peaks, find_no_valleys])"
   ]
  },
  {
   "cell_type": "code",
   "execution_count": 21,
   "metadata": {},
   "outputs": [
    {
     "name": "stdout",
     "output_type": "stream",
     "text": [
      "                       Appliances                        lights  \\\n",
      "                    find_no_peaks find_no_valleys find_no_peaks   \n",
      "date                                                              \n",
      "2016-01-12 17:00:00          25.0            26.0          14.0   \n",
      "\n",
      "                                     \n",
      "                    find_no_valleys  \n",
      "date                                 \n",
      "2016-01-12 17:00:00            13.0  \n",
      "                       Appliances                        lights  \\\n",
      "                    find_no_peaks find_no_valleys find_no_peaks   \n",
      "date                                                              \n",
      "2016-01-13 17:00:00          33.0            32.0          11.0   \n",
      "\n",
      "                                     \n",
      "                    find_no_valleys  \n",
      "date                                 \n",
      "2016-01-13 17:00:00            10.0  \n",
      "                       Appliances                        lights  \\\n",
      "                    find_no_peaks find_no_valleys find_no_peaks   \n",
      "date                                                              \n",
      "2016-01-14 17:00:00          29.0            30.0          12.0   \n",
      "\n",
      "                                     \n",
      "                    find_no_valleys  \n",
      "date                                 \n",
      "2016-01-14 17:00:00            12.0  \n",
      "                       Appliances                        lights  \\\n",
      "                    find_no_peaks find_no_valleys find_no_peaks   \n",
      "date                                                              \n",
      "2016-01-15 17:00:00          29.0            30.0          15.0   \n",
      "\n",
      "                                     \n",
      "                    find_no_valleys  \n",
      "date                                 \n",
      "2016-01-15 17:00:00            15.0  \n",
      "                       Appliances                        lights  \\\n",
      "                    find_no_peaks find_no_valleys find_no_peaks   \n",
      "date                                                              \n",
      "2016-01-16 17:00:00          28.0            29.0          10.0   \n",
      "\n",
      "                                     \n",
      "                    find_no_valleys  \n",
      "date                                 \n",
      "2016-01-16 17:00:00            11.0  \n",
      "                       Appliances                        lights  \\\n",
      "                    find_no_peaks find_no_valleys find_no_peaks   \n",
      "date                                                              \n",
      "2016-01-17 17:00:00          29.0            29.0          11.0   \n",
      "\n",
      "                                     \n",
      "                    find_no_valleys  \n",
      "date                                 \n",
      "2016-01-17 17:00:00            11.0  \n",
      "                       Appliances                        lights  \\\n",
      "                    find_no_peaks find_no_valleys find_no_peaks   \n",
      "date                                                              \n",
      "2016-01-18 17:00:00          34.0            33.0          12.0   \n",
      "\n",
      "                                     \n",
      "                    find_no_valleys  \n",
      "date                                 \n",
      "2016-01-18 17:00:00            11.0  \n",
      "                       Appliances                        lights  \\\n",
      "                    find_no_peaks find_no_valleys find_no_peaks   \n",
      "date                                                              \n",
      "2016-01-19 17:00:00          28.0            29.0          15.0   \n",
      "\n",
      "                                     \n",
      "                    find_no_valleys  \n",
      "date                                 \n",
      "2016-01-19 17:00:00            14.0  \n",
      "                       Appliances                        lights  \\\n",
      "                    find_no_peaks find_no_valleys find_no_peaks   \n",
      "date                                                              \n",
      "2016-01-20 17:00:00          32.0            31.0          17.0   \n",
      "\n",
      "                                     \n",
      "                    find_no_valleys  \n",
      "date                                 \n",
      "2016-01-20 17:00:00            16.0  \n"
     ]
    }
   ],
   "source": [
    "for row in range(144, 1440, 144):\n",
    "    print(data_rolled.iloc[[row]])"
   ]
  },
  {
   "cell_type": "code",
   "execution_count": 25,
   "metadata": {},
   "outputs": [
    {
     "data": {
      "text/html": [
       "<div>\n",
       "<style scoped>\n",
       "    .dataframe tbody tr th:only-of-type {\n",
       "        vertical-align: middle;\n",
       "    }\n",
       "\n",
       "    .dataframe tbody tr th {\n",
       "        vertical-align: top;\n",
       "    }\n",
       "\n",
       "    .dataframe thead th {\n",
       "        text-align: right;\n",
       "    }\n",
       "</style>\n",
       "<table border=\"1\" class=\"dataframe\">\n",
       "  <thead>\n",
       "    <tr style=\"text-align: right;\">\n",
       "      <th></th>\n",
       "      <th>Appliances</th>\n",
       "      <th>lights</th>\n",
       "    </tr>\n",
       "    <tr>\n",
       "      <th>date</th>\n",
       "      <th></th>\n",
       "      <th></th>\n",
       "    </tr>\n",
       "  </thead>\n",
       "  <tbody>\n",
       "    <tr>\n",
       "      <th>2016-01-11 17:00:00</th>\n",
       "      <td>NaN</td>\n",
       "      <td>NaN</td>\n",
       "    </tr>\n",
       "    <tr>\n",
       "      <th>2016-01-11 17:10:00</th>\n",
       "      <td>0.000000</td>\n",
       "      <td>0.000000</td>\n",
       "    </tr>\n",
       "    <tr>\n",
       "      <th>2016-01-11 17:20:00</th>\n",
       "      <td>-0.166667</td>\n",
       "      <td>0.000000</td>\n",
       "    </tr>\n",
       "    <tr>\n",
       "      <th>2016-01-11 17:30:00</th>\n",
       "      <td>0.000000</td>\n",
       "      <td>0.333333</td>\n",
       "    </tr>\n",
       "    <tr>\n",
       "      <th>2016-01-11 17:40:00</th>\n",
       "      <td>0.200000</td>\n",
       "      <td>0.000000</td>\n",
       "    </tr>\n",
       "    <tr>\n",
       "      <th>2016-01-11 17:50:00</th>\n",
       "      <td>-0.166667</td>\n",
       "      <td>0.000000</td>\n",
       "    </tr>\n",
       "    <tr>\n",
       "      <th>2016-01-11 18:00:00</th>\n",
       "      <td>0.200000</td>\n",
       "      <td>0.250000</td>\n",
       "    </tr>\n",
       "    <tr>\n",
       "      <th>2016-01-11 18:10:00</th>\n",
       "      <td>0.000000</td>\n",
       "      <td>0.000000</td>\n",
       "    </tr>\n",
       "    <tr>\n",
       "      <th>2016-01-11 18:20:00</th>\n",
       "      <td>0.000000</td>\n",
       "      <td>-0.200000</td>\n",
       "    </tr>\n",
       "    <tr>\n",
       "      <th>2016-01-11 18:30:00</th>\n",
       "      <td>0.166667</td>\n",
       "      <td>0.000000</td>\n",
       "    </tr>\n",
       "  </tbody>\n",
       "</table>\n",
       "</div>"
      ],
      "text/plain": [
       "                     Appliances    lights\n",
       "date                                     \n",
       "2016-01-11 17:00:00         NaN       NaN\n",
       "2016-01-11 17:10:00    0.000000  0.000000\n",
       "2016-01-11 17:20:00   -0.166667  0.000000\n",
       "2016-01-11 17:30:00    0.000000  0.333333\n",
       "2016-01-11 17:40:00    0.200000  0.000000\n",
       "2016-01-11 17:50:00   -0.166667  0.000000\n",
       "2016-01-11 18:00:00    0.200000  0.250000\n",
       "2016-01-11 18:10:00    0.000000  0.000000\n",
       "2016-01-11 18:20:00    0.000000 -0.200000\n",
       "2016-01-11 18:30:00    0.166667  0.000000"
      ]
     },
     "execution_count": 25,
     "metadata": {},
     "output_type": "execute_result"
    }
   ],
   "source": [
    "# determine the percentage change in value between consecutive observations\n",
    "\n",
    "data_rolled = data.set_index('date')[['Appliances', 'lights']].pct_change()\n",
    "\n",
    "data_rolled.head(10)"
   ]
  },
  {
   "cell_type": "code",
   "execution_count": null,
   "metadata": {},
   "outputs": [],
   "source": []
  }
 ],
 "metadata": {
  "kernelspec": {
   "display_name": "ftools",
   "language": "python",
   "name": "ftools"
  },
  "language_info": {
   "codemirror_mode": {
    "name": "ipython",
    "version": 3
   },
   "file_extension": ".py",
   "mimetype": "text/x-python",
   "name": "python",
   "nbconvert_exporter": "python",
   "pygments_lexer": "ipython3",
   "version": "3.7.3"
  },
  "toc": {
   "nav_menu": {},
   "number_sections": true,
   "sideBar": true,
   "skip_h1_title": false,
   "toc_cell": false,
   "toc_position": {},
   "toc_section_display": "block",
   "toc_window_display": true
  }
 },
 "nbformat": 4,
 "nbformat_minor": 2
}
